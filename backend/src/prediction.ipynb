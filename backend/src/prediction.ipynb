{
 "cells": [
  {
   "cell_type": "code",
   "execution_count": 11,
   "metadata": {},
   "outputs": [
    {
     "ename": "ModuleNotFoundError",
     "evalue": "No module named 'pandas'",
     "output_type": "error",
     "traceback": [
      "\u001b[31m---------------------------------------------------------------------------\u001b[39m",
      "\u001b[31mModuleNotFoundError\u001b[39m                       Traceback (most recent call last)",
      "\u001b[36mCell\u001b[39m\u001b[36m \u001b[39m\u001b[32mIn[11]\u001b[39m\u001b[32m, line 1\u001b[39m\n\u001b[32m----> \u001b[39m\u001b[32m1\u001b[39m \u001b[38;5;28;01mimport\u001b[39;00m\u001b[38;5;250m \u001b[39m\u001b[34;01mpandas\u001b[39;00m\u001b[38;5;250m \u001b[39m\u001b[38;5;28;01mas\u001b[39;00m\u001b[38;5;250m \u001b[39m\u001b[34;01mpd\u001b[39;00m\n\u001b[32m      2\u001b[39m \u001b[38;5;28;01mimport\u001b[39;00m\u001b[38;5;250m \u001b[39m\u001b[34;01mnumpy\u001b[39;00m\u001b[38;5;250m \u001b[39m\u001b[38;5;28;01mas\u001b[39;00m\u001b[38;5;250m \u001b[39m\u001b[34;01mnp\u001b[39;00m\n\u001b[32m      3\u001b[39m \u001b[38;5;28;01mimport\u001b[39;00m\u001b[38;5;250m \u001b[39m\u001b[34;01mmatplotlib\u001b[39;00m\u001b[34;01m.\u001b[39;00m\u001b[34;01mpyplot\u001b[39;00m\u001b[38;5;250m \u001b[39m\u001b[38;5;28;01mas\u001b[39;00m\u001b[38;5;250m \u001b[39m\u001b[34;01mplt\u001b[39;00m\n",
      "\u001b[31mModuleNotFoundError\u001b[39m: No module named 'pandas'"
     ]
    }
   ],
   "source": [
    "import pandas as pd\n",
    "import numpy as np\n",
    "import matplotlib.pyplot as plt\n",
    "import seaborn as sns\n",
    "from sklearn.preprocessing import LabelEncoder\n",
    "from sklearn.ensemble import RandomForestClassifier\n",
    "from sklearn.model_selection import train_test_split\n",
    "import joblib as jb"
   ]
  },
  {
   "cell_type": "code",
   "execution_count": null,
   "metadata": {},
   "outputs": [
    {
     "ename": "NameError",
     "evalue": "name 'pd' is not defined",
     "output_type": "error",
     "traceback": [
      "\u001b[31m---------------------------------------------------------------------------\u001b[39m",
      "\u001b[31mNameError\u001b[39m                                 Traceback (most recent call last)",
      "\u001b[36mCell\u001b[39m\u001b[36m \u001b[39m\u001b[32mIn[8]\u001b[39m\u001b[32m, line 1\u001b[39m\n\u001b[32m----> \u001b[39m\u001b[32m1\u001b[39m data = \u001b[43mpd\u001b[49m.read_csv(\u001b[33m\"\u001b[39m\u001b[33mpremier_league.csv\u001b[39m\u001b[33m\"\u001b[39m)\n",
      "\u001b[31mNameError\u001b[39m: name 'pd' is not defined"
     ]
    }
   ],
   "source": [
    "data = pd.read_csv(\"premier_league.csv\")"
   ]
  },
  {
   "cell_type": "code",
   "execution_count": null,
   "metadata": {},
   "outputs": [],
   "source": [
    "data.dropna(inplace=True)"
   ]
  },
  {
   "cell_type": "code",
   "execution_count": null,
   "metadata": {},
   "outputs": [],
   "source": [
    "football_data = data.copy()\n",
    "del football_data['SourceFile']\n",
    "football_data['Date'] = pd.to_datetime(football_data['Date'], errors='coerce') \n",
    "\n"
   ]
  },
  {
   "cell_type": "code",
   "execution_count": null,
   "metadata": {},
   "outputs": [],
   "source": [
    "all_teams = pd.concat([football_data['HomeTeam'], football_data['AwayTeam']])\n",
    "team_encoder = LabelEncoder()\n",
    "ref_encoder = LabelEncoder()\n",
    "team_encoder.fit(all_teams)\n",
    "\n",
    "football_data['HomeID'] = team_encoder.transform(football_data['HomeTeam'])\n",
    "football_data['AwayID'] = team_encoder.transform(football_data['AwayTeam'])\n",
    "football_data['RefereeID'] = ref_encoder.fit_transform(football_data['Referee'])\n",
    "\n",
    "\n",
    "football_data['Month'] = football_data['Date'].dt.month\n",
    "football_data['Year'] = football_data['Date'].dt.year\n"
   ]
  },
  {
   "cell_type": "code",
   "execution_count": null,
   "metadata": {},
   "outputs": [],
   "source": [
    "result_map = {'H': 1, 'D': 0, 'A': -1}\n",
    "football_data['Result'] = football_data['FTR'].map(result_map)\n",
    "football_data['HResult'] = football_data['HTR'].map(result_map)\n",
    "football_data = football_data.sort_values(\"Date\")\n"
   ]
  },
  {
   "cell_type": "code",
   "execution_count": null,
   "metadata": {},
   "outputs": [],
   "source": [
    "def calculate_team_form(df, team_name, match_date, N=5):\n",
    "  \n",
    "    past_matches = df[\n",
    "        ((df['HomeTeam'] == team_name) | (df['AwayTeam'] == team_name)) &\n",
    "        (df['Date'] < match_date)\n",
    "    ].sort_values(by='Date', ascending=False).head(N)\n",
    "    \n",
    "    goals_scored = []\n",
    "    goals_conceded = []\n",
    "    results = []\n",
    "\n",
    "    for _, row in past_matches.iterrows():\n",
    "        if row['HomeTeam'] == team_name:\n",
    "            goals_scored.append(row['FTHG'])\n",
    "            goals_conceded.append(row['FTAG'])\n",
    "            results.append(row['Result'])\n",
    "        else:\n",
    "            goals_scored.append(row['FTAG'])\n",
    "            goals_conceded.append(row['FTHG'])\n",
    "            results.append(-row['Result']) \n",
    "\n",
    "\n",
    "    if len(past_matches) == 0:\n",
    "        return pd.Series([0, 0, 0])  \n",
    "    \n",
    "    avg_goals = np.mean(goals_scored)\n",
    "    avg_conceded = np.mean(goals_conceded)\n",
    "    win_rate = sum(1 for r in results if r == 1) / len(results)\n",
    "\n",
    "    if ((df[\"Date\"] == pd.to_datetime(\"2025-12-02\")) & (df[\"HomeTeam\"] == 'Everton')).any():\n",
    "        print(goals_conceded, goals_scored, results)\n",
    "\n",
    "\n",
    "    return pd.Series([avg_goals, avg_conceded, win_rate])\n"
   ]
  },
  {
   "cell_type": "code",
   "execution_count": null,
   "metadata": {},
   "outputs": [],
   "source": [
    "home_form_stats = football_data.apply(\n",
    "    lambda row: calculate_team_form(football_data, row['HomeTeam'], row['Date']),\n",
    "    axis=1\n",
    ")\n",
    "\n",
    "away_form_stats = football_data.apply(\n",
    "    lambda row: calculate_team_form(football_data, row['AwayTeam'], row['Date']),\n",
    "    axis=1\n",
    ")\n",
    "\n",
    "# Assign column names\n",
    "home_form_stats.columns = ['HomeAvgGoals', 'HomeAvgConceded', 'HomeWinRate']\n",
    "away_form_stats.columns = ['AwayAvgGoals', 'AwayAvgConceded', 'AwayWinRate']\n",
    "\n",
    "# Merge into original dataset\n",
    "football_data = pd.concat([football_data, home_form_stats, away_form_stats], axis=1)\n",
    "football_data\n"
   ]
  },
  {
   "cell_type": "code",
   "execution_count": null,
   "metadata": {},
   "outputs": [],
   "source": [
    "corr_matrix = football_data.copy()\n",
    "corr_matrix.drop(columns=corr_matrix.select_dtypes(exclude=[np.number]).columns, inplace=True)\n",
    "corr_matrix.corr()['Result']"
   ]
  },
  {
   "cell_type": "code",
   "execution_count": null,
   "metadata": {},
   "outputs": [],
   "source": [
    "from sklearn.ensemble import RandomForestClassifier"
   ]
  },
  {
   "cell_type": "code",
   "execution_count": null,
   "metadata": {},
   "outputs": [],
   "source": [
    "rf = RandomForestClassifier(n_estimators=50, min_samples_split=10, random_state=1)"
   ]
  },
  {
   "cell_type": "code",
   "execution_count": null,
   "metadata": {},
   "outputs": [],
   "source": [
    "train = football_data[football_data[\"Date\"] < '2022-01-01']\n",
    "test = football_data[football_data[\"Date\"] > '2022-01-01']"
   ]
  },
  {
   "cell_type": "code",
   "execution_count": null,
   "metadata": {},
   "outputs": [],
   "source": [
    "# predictors = [\"HomeID\", \"AwayID\", \"HResult\", \"RefereeID\", \"Month\", \"Year\",\"FTHG\",\"HTHG\",\"AR\",\"AY\",\"HC\",\"AF\",\"HST\",\"HS\"]\n",
    "# predictors = [\"HomeID\", \"AwayID\", \"RefereeID\", \"Month\", \"Year\"]\n",
    "predictors = [\n",
    "    \"HomeID\", \"AwayID\", \"RefereeID\", \"Month\", \"Year\",\n",
    "    \"HomeAvgGoals\", \"HomeAvgConceded\", \"HomeWinRate\",\n",
    "    \"AwayAvgGoals\", \"AwayAvgConceded\", \"AwayWinRate\",\n",
    "]\n"
   ]
  },
  {
   "cell_type": "code",
   "execution_count": null,
   "metadata": {},
   "outputs": [],
   "source": []
  },
  {
   "cell_type": "code",
   "execution_count": null,
   "metadata": {},
   "outputs": [],
   "source": [
    "rf.fit(train[predictors], train[\"Result\"])"
   ]
  },
  {
   "cell_type": "code",
   "execution_count": null,
   "metadata": {},
   "outputs": [],
   "source": [
    "preds = rf.predict(test[predictors])"
   ]
  },
  {
   "cell_type": "code",
   "execution_count": null,
   "metadata": {},
   "outputs": [],
   "source": [
    "from sklearn.metrics import accuracy_score"
   ]
  },
  {
   "cell_type": "code",
   "execution_count": null,
   "metadata": {},
   "outputs": [],
   "source": [
    "acc = accuracy_score(test[\"Result\"], preds)"
   ]
  },
  {
   "cell_type": "code",
   "execution_count": null,
   "metadata": {},
   "outputs": [],
   "source": [
    "acc"
   ]
  },
  {
   "cell_type": "code",
   "execution_count": null,
   "metadata": {},
   "outputs": [],
   "source": [
    "combine = pd.DataFrame(dict(actual=test[\"Result\"], prediction=preds))"
   ]
  },
  {
   "cell_type": "code",
   "execution_count": null,
   "metadata": {},
   "outputs": [],
   "source": [
    "pd.crosstab(index=combine[\"actual\"], columns=combine[\"prediction\"])"
   ]
  },
  {
   "cell_type": "code",
   "execution_count": null,
   "metadata": {},
   "outputs": [],
   "source": [
    "def predict_match_with_form(home_team, away_team, referee, match_date_str):\n",
    "    match_date = pd.to_datetime(match_date_str)\n",
    "    \n",
    "    try:\n",
    "        home_id = team_encoder.transform([home_team])[0]\n",
    "        away_id = team_encoder.transform([away_team])[0]\n",
    "    except ValueError:\n",
    "        print(\"❗ Unknown team name.\")\n",
    "        return\n",
    "    \n",
    "    referee_id = (\n",
    "        ref_encoder.transform([referee])[0]\n",
    "        if referee in ref_encoder.classes_\n",
    "        else -1\n",
    "    )\n",
    "    \n",
    "    home_form = calculate_team_form(football_data, home_team, match_date)\n",
    "    away_form = calculate_team_form(football_data, away_team, match_date)\n",
    "\n",
    "    row = pd.DataFrame([{\n",
    "        \"HomeID\": home_id,\n",
    "        \"AwayID\": away_id,\n",
    "        \"RefereeID\": referee_id,\n",
    "        \"Month\": match_date.month,\n",
    "        \"Year\": match_date.year,\n",
    "        \"HomeAvgGoals\": home_form[0],\n",
    "        \"HomeAvgConceded\": home_form[1],\n",
    "        \"HomeWinRate\": home_form[2],\n",
    "        \"AwayAvgGoals\": away_form[0],\n",
    "        \"AwayAvgConceded\": away_form[1],\n",
    "        \"AwayWinRate\": away_form[2],\n",
    "    }])\n",
    "    \n",
    "    pred = rf.predict(row)[0]\n",
    "    result_map = {1: \"🏠 Home Win\", 0: \"🤝 Draw\", -1: \"✈️ Away Win\"}\n",
    "    \n",
    "    print(f\"🔮 Prediction for {home_team} vs {away_team} on {match_date.date()}: {result_map[pred]}\")\n",
    "\n"
   ]
  },
  {
   "cell_type": "code",
   "execution_count": null,
   "metadata": {},
   "outputs": [],
   "source": [
    "predict_match_with_form(\"Burnley\", \"Arsenal\", \"T Robinson\", \"2025-04-19\")\n"
   ]
  },
  {
   "cell_type": "code",
   "execution_count": null,
   "metadata": {},
   "outputs": [],
   "source": []
  }
 ],
 "metadata": {
  "kernelspec": {
   "display_name": "Python (venv)",
   "language": "python",
   "name": "venv"
  },
  "language_info": {
   "codemirror_mode": {
    "name": "ipython",
    "version": 3
   },
   "file_extension": ".py",
   "mimetype": "text/x-python",
   "name": "python",
   "nbconvert_exporter": "python",
   "pygments_lexer": "ipython3",
   "version": "3.13.2"
  },
  "orig_nbformat": 4
 },
 "nbformat": 4,
 "nbformat_minor": 2
}
